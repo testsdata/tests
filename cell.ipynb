{
 "cells": [
  {
   "cell_type": "code",
   "execution_count": 1,
   "metadata": {},
   "outputs": [],
   "source": [
    "##HIDDEN\n",
    "import ipysheet\n",
    "from ipysheet import sheet, cell\n",
    "from ipysheet import column, row\n",
    "import ipywidgets as widgets\n",
    "from ipysheet import calculation\n",
    "from ipywidgets import interact"
   ]
  },
  {
   "cell_type": "code",
   "execution_count": 2,
   "metadata": {},
   "outputs": [
    {
     "data": {
      "application/vnd.jupyter.widget-view+json": {
       "model_id": "003f2f0f2e464ddb85d0ac4f29be7db5",
       "version_major": 2,
       "version_minor": 0
      },
      "text/plain": [
       "Sheet(cells=(Cell(column_end=1, column_start=1, row_end=0, row_start=0, type='numeric', value=4500), Cell(colu…"
      ]
     },
     "metadata": {},
     "output_type": "display_data"
    }
   ],
   "source": [
    "##HIDDEN \n",
    "sheet5 = ipysheet.sheet(rows=6, columns=2)\n",
    "\n",
    "cell_x = cell(0, 1, 4500, label_left='Средняя цена реализации данного типа  цемента, руб/т')\n",
    "cell_y = cell(1, 1, 2700, label_left='Переменные затраты при  производстве данного типа цеменнта, руб/т')\n",
    "cell_a = cell(2, 1, 1595, label_left='Цена XS 148 с учетом доставки, евро за /т')\n",
    "cell_b = cell(3, 1, 80, label_left='Курс ЕВРО, рублей за 1 евро')\n",
    "cell_c = cell(4, 1, 450, label_left='Дозировка XS 148, грамм на тонну цемента')\n",
    "\n",
    "#cell_e = cell(6, 1, 0, label_left ='Маржинальняа прибыль в год , руб')\n",
    "\n",
    "\n",
    "cell_sum = cell(5, 1, 3, label_left='Маржинальная  приыбыль   на тонну цемента полученная при релизации данного типа цемента,руб', read_only=True)\n",
    "\n",
    "@calculation(inputs=[cell_x, cell_y, cell_a, cell_b,cell_c], output=cell_sum)\n",
    "def calculate(x,y,a,b,c):\n",
    "    return (x - (y+a*b/1000/1000*c))\n",
    "\n",
    "sheet5"
   ]
  }
 ],
 "metadata": {
  "kernelspec": {
   "display_name": "Python 3",
   "language": "python",
   "name": "python3"
  },
  "language_info": {
   "codemirror_mode": {
    "name": "ipython",
    "version": 3
   },
   "file_extension": ".py",
   "mimetype": "text/x-python",
   "name": "python",
   "nbconvert_exporter": "python",
   "pygments_lexer": "ipython3",
   "version": "3.7.6"
  }
 },
 "nbformat": 4,
 "nbformat_minor": 4
}
